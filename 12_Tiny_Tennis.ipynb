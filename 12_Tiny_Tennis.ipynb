{
 "cells": [
  {
   "cell_type": "code",
   "execution_count": 2,
   "metadata": {},
   "outputs": [],
   "source": [
    "# imports, globals and drawing\n",
    "# moving the paddles\n",
    "# moving the ball\n",
    "# keeping score"
   ]
  },
  {
   "cell_type": "code",
   "execution_count": 3,
   "metadata": {},
   "outputs": [
    {
     "name": "stdout",
     "output_type": "stream",
     "text": [
      "Requirement already satisfied: pygame in c:\\users\\andre\\anaconda3\\lib\\site-packages (1.9.6)\n",
      "Note: you may need to restart the kernel to use updated packages.\n"
     ]
    }
   ],
   "source": [
    "pip install pygame"
   ]
  },
  {
   "cell_type": "code",
   "execution_count": 2,
   "metadata": {},
   "outputs": [],
   "source": [
    "# imports\n",
    "import pygame\n",
    "import random\n",
    "import time\n",
    "\n",
    "# initialize pygame\n",
    "pygame.init()\n",
    "\n",
    "# color globals :: rgb = (red, green, blue) -> [0 to 255]\n",
    "red = (255, 0, 0)\n",
    "orange = (255, 127, 0)\n",
    "yellow = (255, 255, 0)\n",
    "green = (0, 255, 0)\n",
    "blue = (0, 0, 255)\n",
    "violet = (127, 0, 255)\n",
    "brow = (102, 51, 0)\n",
    "black = (0, 0, 0)\n",
    "white = (255, 255, 255)\n",
    "\n",
    "# screen globals\n",
    "screen_width = 600\n",
    "screen_height = 400\n",
    "game_screen = pygame.display.set_mode((screen_width, screen_height))\n",
    "pygame.display.set_caption(\"Tiny Tenis\")\n",
    "font = pygame.font.SysFont(\"monospace\", 75)\n",
    "\n",
    "# ball globals\n",
    "ball_x = int(screen_width/2)\n",
    "ball_y = int(screen_height/2)\n",
    "ball_xv = 3\n",
    "ball_yv = 3\n",
    "ball_r = 20\n",
    "\n",
    "# draw paddle 1\n",
    "paddle1_x = 10\n",
    "paddle1_y = 10\n",
    "paddle1_w = 25\n",
    "paddle1_h = 100\n",
    "\n",
    "# draw paddle 2\n",
    "paddle2_x = screen_width - 35\n",
    "paddle2_y = 10\n",
    "paddle2_w = 25\n",
    "paddle2_h = 100\n",
    "\n",
    "# initializing score\n",
    "player1_score = 0\n",
    "player2_score = 0\n",
    "\n",
    "# game loop\n",
    "pygame.mouse.set_visible(0)  # makes mouse visible in game screen\n",
    "do_main = True\n",
    "while do_main:\n",
    "    pressed = pygame.key.get_pressed()\n",
    "    pygame.key.set_repeat\n",
    "    for event in pygame.event.get():\n",
    "        if event.type ==pygame.QUIT:\n",
    "            do_main = False\n",
    "            \n",
    "    if pressed[pygame.K_ESCAPE]:\n",
    "        do_main = False\n",
    "        \n",
    "    if pressed[pygame.K_w]:\n",
    "        paddle1_y -= 5\n",
    "    elif pressed[pygame.K_s]:\n",
    "        paddle1_y +=5\n",
    "        \n",
    "    if pressed[pygame.K_up]:\n",
    "        paddle2_y -= 5\n",
    "    elif pressed[pygame.K_DOWN]:\n",
    "        paddle2_y += 5\n",
    "        \n",
    "# velocity of ball is set\n",
    "ball_x += ball_xv\n",
    "ball_y += ballyv\n",
    " \n",
    "# collision of ball with edges of screen\n",
    "if ball_y - ball_r <= 0 or ball_y + ball_r >= screen_height:\n",
    "    ball_yv *= -1 \n",
    "    \n",
    "# collision of ball and paddles with edges of screen\n",
    "if paddle1_y < 0:\n",
    "    paddle1_y = 0\n",
    "elif paddle1_y +  paddle1_h > screen_height:\n",
    "    paddle1_y = screen_height - paddle1_h\n",
    "        \n",
    "if paddle2_y < 0:\n",
    "    paddle2_y = 0\n",
    "elif paddle2_y +  paddle2_h > screen_height:\n",
    "    paddle2_y = screen_height - paddle2_h\n",
    "    \n",
    "# collision of ball and paddles\n",
    "# left paddles\n",
    "if ball_x < paddle1_x + paddle1_w and ball_y >= paddle1_y and ball_y <= paddle1_y + paddle1_h:\n",
    "    ball_xv *= -1\n",
    "# right paddles\n",
    "if ball_x > paddle2_x and ball_y >= paddle2_y and ball_y <= paddle2_y + paddle2_h:\n",
    "    ball_xv *= -1"
   ]
  },
  {
   "cell_type": "code",
   "execution_count": null,
   "metadata": {},
   "outputs": [],
   "source": []
  }
 ],
 "metadata": {
  "kernelspec": {
   "display_name": "Python 3",
   "language": "python",
   "name": "python3"
  },
  "language_info": {
   "codemirror_mode": {
    "name": "ipython",
    "version": 3
   },
   "file_extension": ".py",
   "mimetype": "text/x-python",
   "name": "python",
   "nbconvert_exporter": "python",
   "pygments_lexer": "ipython3",
   "version": "3.7.6"
  }
 },
 "nbformat": 4,
 "nbformat_minor": 4
}
