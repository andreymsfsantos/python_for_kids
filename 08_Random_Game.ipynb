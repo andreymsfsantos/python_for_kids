{
 "cells": [
  {
   "cell_type": "code",
   "execution_count": 1,
   "metadata": {},
   "outputs": [],
   "source": [
    "import random"
   ]
  },
  {
   "cell_type": "code",
   "execution_count": 2,
   "metadata": {},
   "outputs": [],
   "source": [
    "game_on = None\n",
    "guess = None\n",
    "secret = None"
   ]
  },
  {
   "cell_type": "code",
   "execution_count": null,
   "metadata": {},
   "outputs": [
    {
     "name": "stdout",
     "output_type": "stream",
     "text": [
      "Welcome. Type easy, hard, or quit. easy\n",
      "Guess a number (0 to 2). 1\n",
      "You win!\n"
     ]
    }
   ],
   "source": [
    "def difficulty_level_easy():\n",
    "        global guess\n",
    "        global secret\n",
    "        guess = 10\n",
    "        secret = int(random.randrange(0,2))\n",
    "        for i in range(guess):\n",
    "            guess = int(input('Guess a number (0 to 2). '))\n",
    "            if i == 2:\n",
    "                print ('Game over. Too many guesses. ')\n",
    "                play_again()\n",
    "            elif guess > secret:\n",
    "                print('your guess is too high. Try again.')\n",
    "            elif guess < secret:\n",
    "                print('your guess is too low. Try again.')\n",
    "            elif guess == secret:\n",
    "                print('You win!')\n",
    "                \n",
    "def difficulty_level_hard():\n",
    "        global guess\n",
    "        global secret\n",
    "        guess = 10\n",
    "        secret = int(random.randrange(0,10))\n",
    "        for i in range(guess):\n",
    "            guess = int(input('Guess a number (0 to 9). '))\n",
    "            if i == 3:\n",
    "                print ('Game over. Too many guesses. ')\n",
    "                play_again()\n",
    "            elif guess > secret:\n",
    "                print('your guess is too high. Try again.')\n",
    "            elif guess < secret:\n",
    "                print('your guess is too low. Try again.')\n",
    "            elif guess == secret:\n",
    "                print('You win!')\n",
    "                \n",
    "def start_game():\n",
    "    global game_on\n",
    "    game_on = True\n",
    "    level = input('Welcome. Type easy, hard, or quit. ')\n",
    "    if level == 'easy':\n",
    "        difficulty_level_easy()\n",
    "    elif level == 'hard':\n",
    "        diffculty_level_hard()\n",
    "    elif level == 'quit':\n",
    "        game_on = False\n",
    "        print('Thanks for playing')\n",
    "        \n",
    "def play_again():\n",
    "    global game_on\n",
    "    game_on = True\n",
    "    play = input('Play again? Yes or No. ')\n",
    "    if play == 'Yes':\n",
    "        start_game()\n",
    "    else:\n",
    "        game_on = False\n",
    "        print('Thanks for playing')\n",
    "        play_again()\n",
    "start_game()"
   ]
  },
  {
   "cell_type": "code",
   "execution_count": null,
   "metadata": {},
   "outputs": [],
   "source": []
  }
 ],
 "metadata": {
  "kernelspec": {
   "display_name": "Python 3",
   "language": "python",
   "name": "python3"
  },
  "language_info": {
   "codemirror_mode": {
    "name": "ipython",
    "version": 3
   },
   "file_extension": ".py",
   "mimetype": "text/x-python",
   "name": "python",
   "nbconvert_exporter": "python",
   "pygments_lexer": "ipython3",
   "version": "3.7.6"
  }
 },
 "nbformat": 4,
 "nbformat_minor": 4
}
