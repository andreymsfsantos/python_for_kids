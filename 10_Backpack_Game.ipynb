{
 "cells": [
  {
   "cell_type": "code",
   "execution_count": 13,
   "metadata": {
    "collapsed": true
   },
   "outputs": [
    {
     "name": "stdout",
     "output_type": "stream",
     "text": [
      "Enter name for player1:Dad\n",
      "Enter four (4) items to put into your backpack.\n",
      "Item name: mouse\n",
      "Item name: smartphone\n",
      "Item name: pen\n",
      "Item name: jacket\n",
      "Enter name for player2:Dey\n",
      "Enter four (4) items to put into your backpack.\n",
      "Item name: smartphone\n",
      "Item name: notebook\n",
      "Item name: charger\n",
      "Item name: todinho\n"
     ]
    }
   ],
   "source": [
    "# getting information about the players\n",
    "# storing the information about the players\n",
    "\n",
    "\n",
    "players = []\n",
    "\n",
    "for i in range(2):          # <-- run loop to create each player.\n",
    "    players.append({        # <-- adds dictionary of placeholders to 'players' list\n",
    "        \"name\": \"\",         # <-- placeholder string stores name of each players\n",
    "        \"score\": 0,         # <-- starts at 0\n",
    "        \"backpack\": []      # <-- empty list stores items in each player's backpack\n",
    "    })\n",
    "    \n",
    "    \n",
    "    players[i][\"name\"] = input(\"Enter name for player\" + str(i + 1) + \":\")\n",
    "    print('Enter four (4) items to put into your backpack.')\n",
    "    for j in range(4):\n",
    "        backpack_item = input(\"Item name: \")\n",
    "        players[i][\"backpack\"].append(backpack_item)\n",
    "    # print (players[i][\"backpack\"])"
   ]
  },
  {
   "cell_type": "code",
   "execution_count": 14,
   "metadata": {},
   "outputs": [
    {
     "name": "stdout",
     "output_type": "stream",
     "text": [
      "Dad, guess an item from the other backpack: closet\n",
      "You did not guess an item from the backpack.\n",
      "Do you want to play again? Type YES or NO: YES\n",
      "Dey, guess an item from the other backpack: computer\n",
      "You did not guess an item from the backpack.\n",
      "Do you want to play again? Type YES or NO: YES\n",
      "Dad, guess an item from the other backpack: shooes\n",
      "You did not guess an item from the backpack.\n",
      "Do you want to play again? Type YES or NO: YES\n",
      "Dey, guess an item from the other backpack: mouse\n",
      "You guessed an item from the backpack!\n",
      "Do you want to play again? Type YES or NO: YES\n",
      "Dad, guess an item from the other backpack: smartphone\n",
      "You guessed an item from the backpack!\n",
      "Do you want to play again? Type YES or NO: YES\n",
      "Dey, guess an item from the other backpack: smartphone\n",
      "You guessed an item from the backpack!\n",
      "Do you want to play again? Type YES or NO: YES\n",
      "Dad, guess an item from the other backpack: computer\n",
      "You did not guess an item from the backpack.\n",
      "Do you want to play again? Type YES or NO: YES\n",
      "Dey, guess an item from the other backpack: jacket\n",
      "You guessed an item from the backpack!\n",
      "Do you want to play again? Type YES or NO: YES\n",
      "Dad, guess an item from the other backpack: a\n",
      "You did not guess an item from the backpack.\n",
      "Do you want to play again? Type YES or NO: NO\n",
      "Dey, guess an item from the other backpack: a\n",
      "You did not guess an item from the backpack.\n",
      "Do you want to play again? Type YES or NO: NO\n",
      "Dad score: 1\n",
      "Dey score: 3\n"
     ]
    }
   ],
   "source": [
    "game_on = True \n",
    "while game_on:\n",
    "    for i in range(2):\n",
    "        player_choice = input(players[i][\"name\"] +\", guess an item from the other backpack: \")\n",
    "        other_player = players[(i+1) % 2]\n",
    "        if player_choice in other_player[\"backpack\"]:\n",
    "            print(\"You guessed an item from the backpack!\")\n",
    "            players[i][\"score\"] += 1\n",
    "        else:\n",
    "            print(\"You did not guess an item from the backpack.\")\n",
    "            \n",
    "        play_again = input(\"Do you want to play again? Type YES or NO: \")\n",
    "        if (play_again == \"NO\"):\n",
    "            game_on = False\n",
    "            \n",
    "for player in players:\n",
    "    print(player[\"name\"] + \" score: \" + str(player[\"score\"]))"
   ]
  }
 ],
 "metadata": {
  "kernelspec": {
   "display_name": "Python 3",
   "language": "python",
   "name": "python3"
  },
  "language_info": {
   "codemirror_mode": {
    "name": "ipython",
    "version": 3
   },
   "file_extension": ".py",
   "mimetype": "text/x-python",
   "name": "python",
   "nbconvert_exporter": "python",
   "pygments_lexer": "ipython3",
   "version": "3.7.6"
  }
 },
 "nbformat": 4,
 "nbformat_minor": 4
}
