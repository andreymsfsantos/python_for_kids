{
 "cells": [
  {
   "cell_type": "code",
   "execution_count": 1,
   "metadata": {},
   "outputs": [
    {
     "name": "stdout",
     "output_type": "stream",
     "text": [
      "Requirement already satisfied: pygame in c:\\users\\andre\\anaconda3\\lib\\site-packages (1.9.6)\n",
      "Note: you may need to restart the kernel to use updated packages.\n"
     ]
    }
   ],
   "source": [
    "pip install pygame"
   ]
  },
  {
   "cell_type": "code",
   "execution_count": null,
   "metadata": {},
   "outputs": [
    {
     "name": "stdout",
     "output_type": "stream",
     "text": [
      "pygame 1.9.6\n",
      "Hello from the pygame community. https://www.pygame.org/contribute.html\n"
     ]
    }
   ],
   "source": [
    "import pygame\n",
    "import time\n",
    "\n",
    "# print (pygame.ver)\n",
    "\n",
    "pygame.init()  # initializing pygame\n",
    "\n",
    "# Stting up the game screen - color\n",
    "black = (0, 0, 0)\n",
    "white = (255, 255, 255)\n",
    "red = (255, 0, 0)\n",
    "green = (0, 255, 0)\n",
    "blue = (0, 0, 255)\n",
    "# Setting up the game secreen - size\n",
    "screen_width = 400\n",
    "screen_height = 600\n",
    "game_screen = pygame.display.set_mode((screen_width, screen_height))\n",
    "game_screen.fill(black)\n",
    "\n",
    "while True:\n",
    "    pygame.draw.circle(game_screen, red, (250, 300), 20)          #circle\n",
    "    pygame.draw.rect(game_screen, blue, (20, 20, 50, 80))         #rectangle\n",
    "    pygame.draw.ellipse(game_screen, white, (300, 200, 40, 80))   # ellipse\n",
    "    pygame.display.update()"
   ]
  },
  {
   "cell_type": "code",
   "execution_count": null,
   "metadata": {},
   "outputs": [],
   "source": [
    "#python sample.py # to test your code\n",
    "\n",
    "# Moving objects with the keyboard\n",
    "\n",
    "pygame.key.get_pressed() # working with the keyboard\n",
    "pygame.key.set_repeat()  # control how the computer takes the input when a user presses a key"
   ]
  }
 ],
 "metadata": {
  "kernelspec": {
   "display_name": "Python 3",
   "language": "python",
   "name": "python3"
  },
  "language_info": {
   "codemirror_mode": {
    "name": "ipython",
    "version": 3
   },
   "file_extension": ".py",
   "mimetype": "text/x-python",
   "name": "python",
   "nbconvert_exporter": "python",
   "pygments_lexer": "ipython3",
   "version": "3.7.6"
  }
 },
 "nbformat": 4,
 "nbformat_minor": 4
}
